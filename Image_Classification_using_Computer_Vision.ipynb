{
  "nbformat": 4,
  "nbformat_minor": 0,
  "metadata": {
    "colab": {
      "provenance": [],
      "authorship_tag": "ABX9TyM6ircaM9TNFO+ha10/4ZeU",
      "include_colab_link": true
    },
    "kernelspec": {
      "name": "python3",
      "display_name": "Python 3"
    },
    "language_info": {
      "name": "python"
    }
  },
  "cells": [
    {
      "cell_type": "markdown",
      "metadata": {
        "id": "view-in-github",
        "colab_type": "text"
      },
      "source": [
        "<a href=\"https://colab.research.google.com/github/manikbali/ComputerVision/blob/main/Image_Classification_using_Computer_Vision.ipynb\" target=\"_parent\"><img src=\"https://colab.research.google.com/assets/colab-badge.svg\" alt=\"Open In Colab\"/></a>"
      ]
    },
    {
      "cell_type": "code",
      "execution_count": 2,
      "metadata": {
        "id": "ENTsvc39kDGq"
      },
      "outputs": [],
      "source": [
        "from keras.datasets import mnist\n",
        "import tensorflow as tf\n",
        "from tensorflow.keras.layers import Dense, Conv2D, Dropout, Flatten, MaxPooling2D\n",
        "import matplotlib.pyplot as plt\n",
        "import numpy as np\n",
        "\n",
        "tf.compat.v1.disable_eager_execution()"
      ]
    },
    {
      "cell_type": "code",
      "source": [
        "#train_images, train_labels = mnist.load_training()\n",
        "#test_images, test_labels = mnist.load_testing()\n",
        "(train_images, train_labels), (test_images, test_labels) = mnist.load_data()"
      ],
      "metadata": {
        "id": "-0IK9hZAkfqC"
      },
      "execution_count": 6,
      "outputs": []
    },
    {
      "cell_type": "code",
      "source": [
        "test_images=np.array(test_images).astype('float32')/255.0\n",
        "test_labels=np.array(test_labels)\n",
        "# Set Number of training images\n",
        "Number_of_train_images=10000\n",
        "#Read and Load in MNIST data into train_images and train_labels\n",
        "train_images=np.array(train_images[0:Number_of_train_images]).astype('float32')/255\n",
        "train_labels=np.array(train_labels[0:Number_of_train_images])"
      ],
      "metadata": {
        "id": "9aoAOOhlk9iO"
      },
      "execution_count": 7,
      "outputs": []
    },
    {
      "cell_type": "code",
      "source": [
        "train_images = train_images.reshape(train_images.shape[0], 28, 28, 1)\n",
        "test_images =  test_images.reshape(test_images.shape[0], 28, 28, 1)\n",
        "input_shape = (28, 28, 1)"
      ],
      "metadata": {
        "id": "D92xPe7zlK7o"
      },
      "execution_count": 8,
      "outputs": []
    },
    {
      "cell_type": "code",
      "source": [
        "model = tf.keras.Sequential()\n",
        "model.add(Conv2D(28, kernel_size=(3,3), input_shape=input_shape))\n",
        "model.add(MaxPooling2D(pool_size=(2, 2)))\n",
        "model.add(Flatten()) # Flattening the 2D arrays for fully connected layers\n",
        "model.add(Dense(128, activation=tf.nn.relu))\n",
        "model.add(Dropout(0.2))\n",
        "model.add(Dense(10,activation=tf.nn.softmax))"
      ],
      "metadata": {
        "id": "IYojTJJMlO5f"
      },
      "execution_count": 9,
      "outputs": []
    },
    {
      "cell_type": "code",
      "source": [
        "model.compile(optimizer='adam',\n",
        "              loss='sparse_categorical_crossentropy',\n",
        "              metrics=['accuracy'])\n",
        "model.fit(x=train_images,y=train_labels, epochs=10)\n",
        "\n",
        "model.evaluate(test_images, test_labels)\n",
        "\n",
        "image_index = 4444\n",
        "plt.imshow(test_images[image_index].reshape(28, 28),cmap='Greys')\n",
        "pred = model.predict(test_images[image_index].reshape(1, 28, 28, 1))\n",
        "print(pred.argmax())"
      ],
      "metadata": {
        "colab": {
          "base_uri": "https://localhost:8080/",
          "height": 881
        },
        "id": "kWNb2XCAlS15",
        "outputId": "df3fe108-5855-45d1-e81b-1523b9c92050"
      },
      "execution_count": 10,
      "outputs": [
        {
          "output_type": "stream",
          "name": "stdout",
          "text": [
            "Train on 10000 samples\n",
            "Epoch 1/10\n",
            "10000/10000 [==============================] - 12s 1ms/sample - loss: 0.4516 - accuracy: 0.8664\n",
            "Epoch 2/10\n",
            "10000/10000 [==============================] - 7s 686us/sample - loss: 0.1972 - accuracy: 0.9406\n",
            "Epoch 3/10\n",
            "10000/10000 [==============================] - 6s 557us/sample - loss: 0.1310 - accuracy: 0.9587\n",
            "Epoch 4/10\n",
            "10000/10000 [==============================] - 7s 687us/sample - loss: 0.0925 - accuracy: 0.9711\n",
            "Epoch 5/10\n",
            "10000/10000 [==============================] - 6s 563us/sample - loss: 0.0624 - accuracy: 0.9812\n",
            "Epoch 6/10\n",
            "10000/10000 [==============================] - 7s 686us/sample - loss: 0.0509 - accuracy: 0.9851\n",
            "Epoch 7/10\n",
            "10000/10000 [==============================] - 6s 557us/sample - loss: 0.0369 - accuracy: 0.9891\n",
            "Epoch 8/10\n",
            "10000/10000 [==============================] - 7s 677us/sample - loss: 0.0271 - accuracy: 0.9918\n",
            "Epoch 9/10\n",
            "10000/10000 [==============================] - 6s 619us/sample - loss: 0.0209 - accuracy: 0.9943\n",
            "Epoch 10/10\n",
            "10000/10000 [==============================] - 7s 653us/sample - loss: 0.0227 - accuracy: 0.9927\n"
          ]
        },
        {
          "output_type": "stream",
          "name": "stderr",
          "text": [
            "/usr/local/lib/python3.10/dist-packages/keras/engine/training_v1.py:2335: UserWarning: `Model.state_updates` will be removed in a future version. This property should not be used in TensorFlow 2.0, as `updates` are applied automatically.\n",
            "  updates = self.state_updates\n",
            "/usr/local/lib/python3.10/dist-packages/keras/engine/training_v1.py:2359: UserWarning: `Model.state_updates` will be removed in a future version. This property should not be used in TensorFlow 2.0, as `updates` are applied automatically.\n",
            "  updates=self.state_updates,\n"
          ]
        },
        {
          "output_type": "stream",
          "name": "stdout",
          "text": [
            "9\n"
          ]
        },
        {
          "output_type": "display_data",
          "data": {
            "text/plain": [
              "<Figure size 640x480 with 1 Axes>"
            ],
            "image/png": "[encoded data removed]"
          },
          "metadata": {}
        }
      ]
    }
  ]
}